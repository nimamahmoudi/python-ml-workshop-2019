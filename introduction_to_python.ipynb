{
 "cells": [
  {
   "cell_type": "markdown",
   "metadata": {},
   "source": [
    "# Introduction To Python\n",
    "\n",
    "This jupyter notebook with contain the code snippets for the Introduction to Python and Machine Learning workshop presented by Nima Mahmoudi in Mar 2019. This tutorial is based on the [\"A Byte of Python\"](https://python.swaroopch.com/) book."
   ]
  },
  {
   "cell_type": "markdown",
   "metadata": {},
   "source": [
    "# Basics"
   ]
  },
  {
   "cell_type": "code",
   "execution_count": 2,
   "metadata": {},
   "outputs": [
    {
     "name": "stdout",
     "output_type": "stream",
     "text": [
      "Hello World\n"
     ]
    }
   ],
   "source": [
    "print(\"Hello World\")"
   ]
  },
  {
   "cell_type": "markdown",
   "metadata": {},
   "source": [
    "**Comments:**"
   ]
  },
  {
   "cell_type": "code",
   "execution_count": 4,
   "metadata": {},
   "outputs": [
    {
     "name": "stdout",
     "output_type": "stream",
     "text": [
      "hello world\n"
     ]
    }
   ],
   "source": [
    "# Note that print is a function\n",
    "print('hello world')"
   ]
  },
  {
   "cell_type": "markdown",
   "metadata": {},
   "source": [
    "**Literal Constants:** Numbers, Strings, Single Quotes, Double Quotes, Triple Quotes"
   ]
  },
  {
   "cell_type": "code",
   "execution_count": null,
   "metadata": {},
   "outputs": [],
   "source": [
    "5 #This is an int\n",
    "1.23 # This is a float\n",
    "'This is a stirng!'\n",
    "\"It's a string\"\n",
    "\n",
    "''' This is a multi-line string.\n",
    "And this is the second line.\n",
    "'''"
   ]
  },
  {
   "cell_type": "markdown",
   "metadata": {},
   "source": [
    "**Formatting**"
   ]
  },
  {
   "cell_type": "code",
   "execution_count": 17,
   "metadata": {},
   "outputs": [
    {
     "name": "stdout",
     "output_type": "stream",
     "text": [
      "Nima was 25 years old when he wrote this book\n",
      "Why is Nima playing with that python?\n",
      "This is a complicated number: 0.33\n",
      ". . . . .\n",
      "Nima is 25 years old!\n"
     ]
    }
   ],
   "source": [
    "age = 25\n",
    "name = 'Nima'\n",
    "\n",
    "print('{0} was {1} years old when he wrote this book'.format(name, age))\n",
    "print('Why is {} playing with that python?'.format(name))\n",
    "print('This is a complicated number: {0:4.2f}'.format(1/3))\n",
    "\n",
    "print('.', end=' ')\n",
    "print('.', end=' ')\n",
    "print('.', end=' ')\n",
    "print('.', end=' ')\n",
    "print('.')\n",
    "\n",
    "# In python 3.6 and later:\n",
    "print(f'{name} is {age} years old!')"
   ]
  },
  {
   "cell_type": "markdown",
   "metadata": {},
   "source": [
    "**Variables:** Variable names cannot start with numbers!"
   ]
  },
  {
   "cell_type": "code",
   "execution_count": 18,
   "metadata": {},
   "outputs": [
    {
     "name": "stdout",
     "output_type": "stream",
     "text": [
      "5\n",
      "6\n",
      "This is a multi-line string.\n",
      "This is the second line.\n"
     ]
    }
   ],
   "source": [
    "i = 5\n",
    "print(i)\n",
    "i = i + 1\n",
    "print(i)\n",
    "\n",
    "s = '''This is a multi-line string.\n",
    "This is the second line.'''\n",
    "print(s)"
   ]
  },
  {
   "cell_type": "markdown",
   "metadata": {},
   "source": [
    "**Indentation** is very important in python!"
   ]
  },
  {
   "cell_type": "code",
   "execution_count": 20,
   "metadata": {},
   "outputs": [
    {
     "ename": "IndentationError",
     "evalue": "unexpected indent (<ipython-input-20-b4a7646f406d>, line 2)",
     "output_type": "error",
     "traceback": [
      "\u001b[1;36m  File \u001b[1;32m\"<ipython-input-20-b4a7646f406d>\"\u001b[1;36m, line \u001b[1;32m2\u001b[0m\n\u001b[1;33m    print('hello')\u001b[0m\n\u001b[1;37m    ^\u001b[0m\n\u001b[1;31mIndentationError\u001b[0m\u001b[1;31m:\u001b[0m unexpected indent\n"
     ]
    }
   ],
   "source": [
    "i = 5\n",
    "    print('hello')"
   ]
  },
  {
   "cell_type": "markdown",
   "metadata": {},
   "source": [
    "# Operators and Expressions"
   ]
  },
  {
   "cell_type": "code",
   "execution_count": 22,
   "metadata": {},
   "outputs": [
    {
     "data": {
      "text/plain": [
       "5"
      ]
     },
     "execution_count": 22,
     "metadata": {},
     "output_type": "execute_result"
    }
   ],
   "source": [
    "2 + 3"
   ]
  },
  {
   "cell_type": "code",
   "execution_count": 23,
   "metadata": {},
   "outputs": [
    {
     "data": {
      "text/plain": [
       "6"
      ]
     },
     "execution_count": 23,
     "metadata": {},
     "output_type": "execute_result"
    }
   ],
   "source": [
    "2 * 3"
   ]
  },
  {
   "cell_type": "code",
   "execution_count": 24,
   "metadata": {},
   "outputs": [
    {
     "data": {
      "text/plain": [
       "8"
      ]
     },
     "execution_count": 24,
     "metadata": {},
     "output_type": "execute_result"
    }
   ],
   "source": [
    "2 ** 3"
   ]
  },
  {
   "cell_type": "code",
   "execution_count": 25,
   "metadata": {},
   "outputs": [
    {
     "data": {
      "text/plain": [
       "5.5"
      ]
     },
     "execution_count": 25,
     "metadata": {},
     "output_type": "execute_result"
    }
   ],
   "source": [
    "11 / 2"
   ]
  },
  {
   "cell_type": "code",
   "execution_count": 26,
   "metadata": {},
   "outputs": [
    {
     "data": {
      "text/plain": [
       "5"
      ]
     },
     "execution_count": 26,
     "metadata": {},
     "output_type": "execute_result"
    }
   ],
   "source": [
    "11 // 2"
   ]
  },
  {
   "cell_type": "code",
   "execution_count": 27,
   "metadata": {},
   "outputs": [
    {
     "data": {
      "text/plain": [
       "2"
      ]
     },
     "execution_count": 27,
     "metadata": {},
     "output_type": "execute_result"
    }
   ],
   "source": [
    "11 % 3 # modulo"
   ]
  },
  {
   "cell_type": "code",
   "execution_count": 28,
   "metadata": {},
   "outputs": [
    {
     "data": {
      "text/plain": [
       "8"
      ]
     },
     "execution_count": 28,
     "metadata": {},
     "output_type": "execute_result"
    }
   ],
   "source": [
    "2 << 2 # Left Shift"
   ]
  },
  {
   "cell_type": "code",
   "execution_count": 29,
   "metadata": {},
   "outputs": [
    {
     "data": {
      "text/plain": [
       "2"
      ]
     },
     "execution_count": 29,
     "metadata": {},
     "output_type": "execute_result"
    }
   ],
   "source": [
    "8 >> 2 # Right shift"
   ]
  },
  {
   "cell_type": "code",
   "execution_count": 30,
   "metadata": {},
   "outputs": [
    {
     "data": {
      "text/plain": [
       "4"
      ]
     },
     "execution_count": 30,
     "metadata": {},
     "output_type": "execute_result"
    }
   ],
   "source": [
    "7 & 4 # bit-wise AND"
   ]
  },
  {
   "cell_type": "code",
   "execution_count": 31,
   "metadata": {},
   "outputs": [
    {
     "data": {
      "text/plain": [
       "7"
      ]
     },
     "execution_count": 31,
     "metadata": {},
     "output_type": "execute_result"
    }
   ],
   "source": [
    "7 | 4 # bit-wise OR"
   ]
  },
  {
   "cell_type": "code",
   "execution_count": 33,
   "metadata": {},
   "outputs": [
    {
     "data": {
      "text/plain": [
       "3"
      ]
     },
     "execution_count": 33,
     "metadata": {},
     "output_type": "execute_result"
    }
   ],
   "source": [
    "7 ^ 4 # bit-wise XOR"
   ]
  },
  {
   "cell_type": "code",
   "execution_count": 35,
   "metadata": {},
   "outputs": [
    {
     "data": {
      "text/plain": [
       "-8"
      ]
     },
     "execution_count": 35,
     "metadata": {},
     "output_type": "execute_result"
    }
   ],
   "source": [
    "~7 # bit-wise invert\n",
    "# The bit-wise inversion of x is -(x+1)"
   ]
  },
  {
   "cell_type": "code",
   "execution_count": 36,
   "metadata": {},
   "outputs": [
    {
     "data": {
      "text/plain": [
       "True"
      ]
     },
     "execution_count": 36,
     "metadata": {},
     "output_type": "execute_result"
    }
   ],
   "source": [
    "7 < 8"
   ]
  },
  {
   "cell_type": "code",
   "execution_count": 37,
   "metadata": {},
   "outputs": [
    {
     "data": {
      "text/plain": [
       "False"
      ]
     },
     "execution_count": 37,
     "metadata": {},
     "output_type": "execute_result"
    }
   ],
   "source": [
    "7 > 8"
   ]
  },
  {
   "cell_type": "code",
   "execution_count": 41,
   "metadata": {},
   "outputs": [
    {
     "data": {
      "text/plain": [
       "True"
      ]
     },
     "execution_count": 41,
     "metadata": {},
     "output_type": "execute_result"
    }
   ],
   "source": [
    "7 <= 8"
   ]
  },
  {
   "cell_type": "code",
   "execution_count": 40,
   "metadata": {},
   "outputs": [
    {
     "data": {
      "text/plain": [
       "False"
      ]
     },
     "execution_count": 40,
     "metadata": {},
     "output_type": "execute_result"
    }
   ],
   "source": [
    "7 >= 8"
   ]
  },
  {
   "cell_type": "code",
   "execution_count": 42,
   "metadata": {},
   "outputs": [
    {
     "data": {
      "text/plain": [
       "False"
      ]
     },
     "execution_count": 42,
     "metadata": {},
     "output_type": "execute_result"
    }
   ],
   "source": [
    "7 == 8"
   ]
  },
  {
   "cell_type": "code",
   "execution_count": 43,
   "metadata": {},
   "outputs": [
    {
     "data": {
      "text/plain": [
       "True"
      ]
     },
     "execution_count": 43,
     "metadata": {},
     "output_type": "execute_result"
    }
   ],
   "source": [
    "7 != 8"
   ]
  },
  {
   "cell_type": "code",
   "execution_count": 44,
   "metadata": {},
   "outputs": [
    {
     "data": {
      "text/plain": [
       "False"
      ]
     },
     "execution_count": 44,
     "metadata": {},
     "output_type": "execute_result"
    }
   ],
   "source": [
    "(7 == 8) is True"
   ]
  },
  {
   "cell_type": "code",
   "execution_count": 45,
   "metadata": {},
   "outputs": [
    {
     "data": {
      "text/plain": [
       "True"
      ]
     },
     "execution_count": 45,
     "metadata": {},
     "output_type": "execute_result"
    }
   ],
   "source": [
    "(7 == 8) is not True"
   ]
  },
  {
   "cell_type": "code",
   "execution_count": 46,
   "metadata": {},
   "outputs": [
    {
     "data": {
      "text/plain": [
       "False"
      ]
     },
     "execution_count": 46,
     "metadata": {},
     "output_type": "execute_result"
    }
   ],
   "source": [
    "True and False"
   ]
  },
  {
   "cell_type": "code",
   "execution_count": 47,
   "metadata": {},
   "outputs": [
    {
     "data": {
      "text/plain": [
       "True"
      ]
     },
     "execution_count": 47,
     "metadata": {},
     "output_type": "execute_result"
    }
   ],
   "source": [
    "True or False"
   ]
  },
  {
   "cell_type": "code",
   "execution_count": 50,
   "metadata": {},
   "outputs": [
    {
     "name": "stdout",
     "output_type": "stream",
     "text": [
      "a is 2\n"
     ]
    }
   ],
   "source": [
    "a = 1\n",
    "a += 1\n",
    "print('a is', a)"
   ]
  },
  {
   "cell_type": "markdown",
   "metadata": {},
   "source": [
    "# Control Flow"
   ]
  },
  {
   "cell_type": "markdown",
   "metadata": {},
   "source": [
    "**The 'if' Statement:**"
   ]
  },
  {
   "cell_type": "code",
   "execution_count": 52,
   "metadata": {},
   "outputs": [
    {
     "name": "stdout",
     "output_type": "stream",
     "text": [
      "Enter an integer : 12\n",
      "No, it is a little higher than that\n",
      "Done\n"
     ]
    }
   ],
   "source": [
    "number = 23\n",
    "guess = int(input('Enter an integer : '))\n",
    "\n",
    "if guess == number:\n",
    "    # New block starts here\n",
    "    print('Congratulations, you guessed it.')\n",
    "    print('(but you do not win any prizes!)')\n",
    "    # New block ends here\n",
    "elif guess < number:\n",
    "    # Another block\n",
    "    print('No, it is a little higher than that')\n",
    "    # You can do whatever you want in a block ...\n",
    "else:\n",
    "    print('No, it is a little lower than that')\n",
    "    # you must have guessed > number to reach here\n",
    "\n",
    "print('Done')"
   ]
  },
  {
   "cell_type": "markdown",
   "metadata": {},
   "source": [
    "**The 'while' Statement:**"
   ]
  },
  {
   "cell_type": "code",
   "execution_count": 56,
   "metadata": {},
   "outputs": [
    {
     "name": "stdout",
     "output_type": "stream",
     "text": [
      "Enter an integer : 12\n",
      "No, it is a little higher than that.\n",
      "Enter an integer : 25\n",
      "No, it is a little lower than that.\n",
      "Enter an integer : 23\n",
      "Congratulations, you guessed it.\n",
      "The while loop is over.\n",
      "Done\n"
     ]
    }
   ],
   "source": [
    "number = 23\n",
    "running = True\n",
    "\n",
    "while running:\n",
    "    guess = int(input('Enter an integer : '))\n",
    "\n",
    "    if guess == number:\n",
    "        print('Congratulations, you guessed it.')\n",
    "        # this causes the while loop to stop\n",
    "        running = False\n",
    "    elif guess < number:\n",
    "        print('No, it is a little higher than that.')\n",
    "    else:\n",
    "        print('No, it is a little lower than that.')\n",
    "else: # not executed when we break!\n",
    "    print('The while loop is over.')\n",
    "    # Do anything else you want to do here\n",
    "\n",
    "print('Done')"
   ]
  },
  {
   "cell_type": "markdown",
   "metadata": {},
   "source": [
    "**The 'for' loop:**"
   ]
  },
  {
   "cell_type": "code",
   "execution_count": 62,
   "metadata": {},
   "outputs": [
    {
     "name": "stdout",
     "output_type": "stream",
     "text": [
      "[1, 2, 3, 4]\n"
     ]
    }
   ],
   "source": [
    "print(list(range(1,5)))"
   ]
  },
  {
   "cell_type": "code",
   "execution_count": 59,
   "metadata": {},
   "outputs": [
    {
     "name": "stdout",
     "output_type": "stream",
     "text": [
      "1\n",
      "2\n",
      "3\n",
      "4\n",
      "The for loop is over\n"
     ]
    }
   ],
   "source": [
    "for i in range(1, 5):\n",
    "    print(i)\n",
    "else:\n",
    "    print('The for loop is over')"
   ]
  },
  {
   "cell_type": "markdown",
   "metadata": {},
   "source": [
    "**The 'break' Statement:**"
   ]
  },
  {
   "cell_type": "code",
   "execution_count": 65,
   "metadata": {},
   "outputs": [
    {
     "name": "stdout",
     "output_type": "stream",
     "text": [
      "Enter something : something\n",
      "Input is of sufficient length\n",
      "Enter something : quit\n"
     ]
    }
   ],
   "source": [
    "while True:\n",
    "    s = input('Enter something : ')\n",
    "    if s == 'quit':\n",
    "        break\n",
    "    if len(s) < 3:\n",
    "        print('Too small')\n",
    "        continue\n",
    "    print('Input is of sufficient length')\n",
    "    # Do other kinds of processing here..."
   ]
  },
  {
   "cell_type": "markdown",
   "metadata": {},
   "source": [
    "**The 'continue' Statement:**"
   ]
  },
  {
   "cell_type": "code",
   "execution_count": 66,
   "metadata": {},
   "outputs": [
    {
     "name": "stdout",
     "output_type": "stream",
     "text": [
      "Enter something : aa\n",
      "Too small\n",
      "Enter something : aaaaaaaaaa\n",
      "Input is of sufficient length\n",
      "Enter something : quit\n"
     ]
    }
   ],
   "source": [
    "while True:\n",
    "    s = input('Enter something : ')\n",
    "    if s == 'quit':\n",
    "        break\n",
    "    if len(s) < 3:\n",
    "        print('Too small')\n",
    "        continue\n",
    "    print('Input is of sufficient length')\n",
    "    # Do other kinds of processing here...\n"
   ]
  },
  {
   "cell_type": "markdown",
   "metadata": {},
   "source": [
    "# Functions"
   ]
  },
  {
   "cell_type": "code",
   "execution_count": 68,
   "metadata": {},
   "outputs": [
    {
     "name": "stdout",
     "output_type": "stream",
     "text": [
      "hello world\n",
      "hello world\n"
     ]
    }
   ],
   "source": [
    "def say_hello():\n",
    "    # block belonging to the function\n",
    "    print('hello world')\n",
    "# End of function\n",
    "\n",
    "say_hello()\n",
    "say_hello()"
   ]
  },
  {
   "cell_type": "markdown",
   "metadata": {},
   "source": [
    "**Function Parameters:**"
   ]
  },
  {
   "cell_type": "code",
   "execution_count": 70,
   "metadata": {},
   "outputs": [
    {
     "name": "stdout",
     "output_type": "stream",
     "text": [
      "4 is maximum\n",
      "7 is maximum\n"
     ]
    }
   ],
   "source": [
    "def print_max(a, b):\n",
    "    if a > b:\n",
    "        print(a, 'is maximum')\n",
    "    elif a == b:\n",
    "        print(a, 'is equal to', b)\n",
    "    else:\n",
    "        print(b, 'is maximum')\n",
    "\n",
    "# directly pass literal values\n",
    "print_max(3, 4)\n",
    "\n",
    "x = 5\n",
    "y = 7\n",
    "\n",
    "# pass variables as arguments\n",
    "print_max(x, y)"
   ]
  },
  {
   "cell_type": "markdown",
   "metadata": {},
   "source": [
    "**The local variables**"
   ]
  },
  {
   "cell_type": "code",
   "execution_count": 72,
   "metadata": {},
   "outputs": [
    {
     "name": "stdout",
     "output_type": "stream",
     "text": [
      "x is 50\n",
      "Changed local x to 2\n",
      "x is still 50\n"
     ]
    }
   ],
   "source": [
    "x = 50\n",
    "\n",
    "\n",
    "def func(x):\n",
    "    print('x is', x)\n",
    "    x = 2\n",
    "    print('Changed local x to', x)\n",
    "\n",
    "    \n",
    "func(x)\n",
    "print('x is still', x)"
   ]
  },
  {
   "cell_type": "markdown",
   "metadata": {},
   "source": [
    "**The 'global' statement**"
   ]
  },
  {
   "cell_type": "code",
   "execution_count": 73,
   "metadata": {},
   "outputs": [
    {
     "name": "stdout",
     "output_type": "stream",
     "text": [
      "x is 50\n",
      "Changed global x to 2\n",
      "Value of x is 2\n"
     ]
    }
   ],
   "source": [
    "x = 50\n",
    "\n",
    "\n",
    "def func():\n",
    "    global x\n",
    "\n",
    "    print('x is', x)\n",
    "    x = 2\n",
    "    print('Changed global x to', x)\n",
    "\n",
    "\n",
    "func()\n",
    "print('Value of x is', x)"
   ]
  },
  {
   "cell_type": "markdown",
   "metadata": {},
   "source": [
    "**Default argument values**"
   ]
  },
  {
   "cell_type": "code",
   "execution_count": 75,
   "metadata": {},
   "outputs": [
    {
     "name": "stdout",
     "output_type": "stream",
     "text": [
      "Hello\n",
      "WorldWorldWorldWorldWorld\n"
     ]
    }
   ],
   "source": [
    "def say(message, times=1):\n",
    "    print(message * times)\n",
    "\n",
    "say('Hello')\n",
    "say('World', 5)"
   ]
  },
  {
   "cell_type": "markdown",
   "metadata": {},
   "source": [
    "**Keyword Arguments**"
   ]
  },
  {
   "cell_type": "code",
   "execution_count": 77,
   "metadata": {},
   "outputs": [
    {
     "name": "stdout",
     "output_type": "stream",
     "text": [
      "a is 3 and b is 7 and c is 10\n",
      "a is 25 and b is 5 and c is 24\n",
      "a is 100 and b is 5 and c is 50\n"
     ]
    }
   ],
   "source": [
    "def func(a, b=5, c=10):\n",
    "    print('a is', a, 'and b is', b, 'and c is', c)\n",
    "\n",
    "func(3, 7)\n",
    "func(25, c=24)\n",
    "func(c=50, a=100)"
   ]
  },
  {
   "cell_type": "markdown",
   "metadata": {},
   "source": [
    "**VarArgs parameters**"
   ]
  },
  {
   "cell_type": "code",
   "execution_count": 79,
   "metadata": {},
   "outputs": [
    {
     "name": "stdout",
     "output_type": "stream",
     "text": [
      "a 10\n",
      "single_item 1\n",
      "single_item 2\n",
      "single_item 3\n",
      "Jack 1123\n",
      "John 2231\n",
      "Inge 1560\n"
     ]
    }
   ],
   "source": [
    "def total(a=5, *numbers, **phonebook):\n",
    "    print('a', a)\n",
    "\n",
    "    #iterate through all the items in tuple\n",
    "    for single_item in numbers:\n",
    "        print('single_item', single_item)\n",
    "\n",
    "    #iterate through all the items in dictionary    \n",
    "    for first_part, second_part in phonebook.items():\n",
    "        print(first_part,second_part)\n",
    "\n",
    "total(10,1,2,3,Jack=1123,John=2231,Inge=1560)"
   ]
  },
  {
   "cell_type": "markdown",
   "metadata": {},
   "source": [
    "**The return statement**"
   ]
  },
  {
   "cell_type": "code",
   "execution_count": 80,
   "metadata": {},
   "outputs": [
    {
     "name": "stdout",
     "output_type": "stream",
     "text": [
      "3\n"
     ]
    }
   ],
   "source": [
    "def maximum(x, y):\n",
    "    if x > y:\n",
    "        return x\n",
    "    elif x == y:\n",
    "        return 'The numbers are equal'\n",
    "    else:\n",
    "        return y\n",
    "\n",
    "print(maximum(2, 3))"
   ]
  },
  {
   "cell_type": "markdown",
   "metadata": {},
   "source": [
    "**DocStrings:**"
   ]
  },
  {
   "cell_type": "code",
   "execution_count": 83,
   "metadata": {},
   "outputs": [
    {
     "name": "stdout",
     "output_type": "stream",
     "text": [
      "5 is maximum\n",
      "Prints the maximum of two numbers.\n",
      "\n",
      "The two values must be integers.\n"
     ]
    }
   ],
   "source": [
    "def print_max(x, y):\n",
    "    '''Prints the maximum of two numbers.\n",
    "\n",
    "The two values must be integers.'''\n",
    "    # convert to integers, if possible\n",
    "    x = int(x)\n",
    "    y = int(y)\n",
    "\n",
    "    if x > y:\n",
    "        print(x, 'is maximum')\n",
    "    else:\n",
    "        print(y, 'is maximum')\n",
    "\n",
    "print_max(3, 5)\n",
    "print(print_max.__doc__)"
   ]
  },
  {
   "cell_type": "markdown",
   "metadata": {},
   "source": [
    "# Modules"
   ]
  },
  {
   "cell_type": "code",
   "execution_count": 1,
   "metadata": {},
   "outputs": [
    {
     "data": {
      "text/plain": [
       "[0, 1, 1, 2, 3, 5, 8, 13, 21, 34, 55, 89]"
      ]
     },
     "execution_count": 1,
     "metadata": {},
     "output_type": "execute_result"
    }
   ],
   "source": [
    "# https://docs.python.org/3/tutorial/modules.html\n",
    "import fibo\n",
    "\n",
    "fibo.fib2(100)"
   ]
  },
  {
   "cell_type": "code",
   "execution_count": 6,
   "metadata": {},
   "outputs": [
    {
     "data": {
      "text/plain": [
       "['__builtins__',\n",
       " '__cached__',\n",
       " '__doc__',\n",
       " '__file__',\n",
       " '__loader__',\n",
       " '__name__',\n",
       " '__package__',\n",
       " '__spec__',\n",
       " '__version__',\n",
       " 'fib',\n",
       " 'fib2']"
      ]
     },
     "execution_count": 6,
     "metadata": {},
     "output_type": "execute_result"
    }
   ],
   "source": [
    "dir(fibo)"
   ]
  },
  {
   "cell_type": "code",
   "execution_count": 2,
   "metadata": {},
   "outputs": [
    {
     "name": "stdout",
     "output_type": "stream",
     "text": [
      "fibo\n",
      "0.1\n"
     ]
    }
   ],
   "source": [
    "print(fibo.__name__)\n",
    "print(fibo.__version__)"
   ]
  },
  {
   "cell_type": "code",
   "execution_count": 3,
   "metadata": {},
   "outputs": [
    {
     "name": "stdout",
     "output_type": "stream",
     "text": [
      "0 1 1 2 3 5 8 13 21 34 55 89 144 233 377 \n"
     ]
    }
   ],
   "source": [
    "# Everything is object in python\n",
    "fib = fibo.fib\n",
    "fib(500)"
   ]
  },
  {
   "cell_type": "code",
   "execution_count": 4,
   "metadata": {},
   "outputs": [
    {
     "name": "stdout",
     "output_type": "stream",
     "text": [
      "Square root of 16 is 4.0\n"
     ]
    }
   ],
   "source": [
    "from math import sqrt\n",
    "print(\"Square root of 16 is\", sqrt(16))"
   ]
  },
  {
   "cell_type": "code",
   "execution_count": 7,
   "metadata": {},
   "outputs": [],
   "source": [
    "from fibo import *"
   ]
  },
  {
   "cell_type": "markdown",
   "metadata": {},
   "source": [
    "# Data Structures"
   ]
  },
  {
   "cell_type": "markdown",
   "metadata": {},
   "source": [
    "**Lists:**"
   ]
  },
  {
   "cell_type": "code",
   "execution_count": 8,
   "metadata": {},
   "outputs": [
    {
     "name": "stdout",
     "output_type": "stream",
     "text": [
      "I have 4 items to purchase.\n",
      "These items are: apple mango carrot banana \n",
      "I also have to buy rice.\n",
      "My shopping list is now ['apple', 'mango', 'carrot', 'banana', 'rice']\n",
      "I will sort my list now\n",
      "Sorted shopping list is ['apple', 'banana', 'carrot', 'mango', 'rice']\n",
      "The first item I will buy is apple\n",
      "I bought the apple\n",
      "My shopping list is now ['banana', 'carrot', 'mango', 'rice']\n"
     ]
    }
   ],
   "source": [
    "# This is my shopping list\n",
    "shoplist = ['apple', 'mango', 'carrot', 'banana']\n",
    "\n",
    "print('I have', len(shoplist), 'items to purchase.')\n",
    "\n",
    "print('These items are:', end=' ')\n",
    "for item in shoplist:\n",
    "    print(item, end=' ')\n",
    "\n",
    "print('\\nI also have to buy rice.')\n",
    "shoplist.append('rice')\n",
    "print('My shopping list is now', shoplist)\n",
    "\n",
    "print('I will sort my list now')\n",
    "shoplist.sort()\n",
    "print('Sorted shopping list is', shoplist)\n",
    "\n",
    "print('The first item I will buy is', shoplist[0])\n",
    "olditem = shoplist[0]\n",
    "del shoplist[0]\n",
    "print('I bought the', olditem)\n",
    "print('My shopping list is now', shoplist)"
   ]
  },
  {
   "cell_type": "markdown",
   "metadata": {},
   "source": [
    "**Tuples:**"
   ]
  },
  {
   "cell_type": "code",
   "execution_count": 9,
   "metadata": {},
   "outputs": [
    {
     "name": "stdout",
     "output_type": "stream",
     "text": [
      "Number of animals in the zoo is 3\n",
      "Number of cages in the new zoo is 3\n",
      "All animals in new zoo are ('monkey', 'camel', ('python', 'elephant', 'penguin'))\n",
      "Animals brought from old zoo are ('python', 'elephant', 'penguin')\n",
      "Last animal brought from old zoo is penguin\n",
      "Number of animals in the new zoo is 5\n"
     ]
    }
   ],
   "source": [
    "# I would recommend always using parentheses\n",
    "# to indicate start and end of tuple\n",
    "# even though parentheses are optional.\n",
    "# Explicit is better than implicit.\n",
    "zoo = ('python', 'elephant', 'penguin')\n",
    "print('Number of animals in the zoo is', len(zoo))\n",
    "\n",
    "new_zoo = 'monkey', 'camel', zoo    # parentheses not required but are a good idea\n",
    "print('Number of cages in the new zoo is', len(new_zoo))\n",
    "print('All animals in new zoo are', new_zoo)\n",
    "print('Animals brought from old zoo are', new_zoo[2])\n",
    "print('Last animal brought from old zoo is', new_zoo[2][2])\n",
    "print('Number of animals in the new zoo is',\n",
    "      len(new_zoo)-1+len(new_zoo[2]))"
   ]
  },
  {
   "cell_type": "markdown",
   "metadata": {},
   "source": [
    "**Dictionaries:**"
   ]
  },
  {
   "cell_type": "code",
   "execution_count": 10,
   "metadata": {},
   "outputs": [
    {
     "name": "stdout",
     "output_type": "stream",
     "text": [
      "Swaroop's address is swaroop@swaroopch.com\n",
      "\n",
      "There are 3 contacts in the address-book\n",
      "\n",
      "Contact Swaroop at swaroop@swaroopch.com\n",
      "Contact Larry at larry@wall.org\n",
      "Contact Matsumoto at matz@ruby-lang.org\n",
      "\n",
      "Guido's address is guido@python.org\n"
     ]
    }
   ],
   "source": [
    "# 'ab' is short for 'a'ddress'b'ook\n",
    "\n",
    "ab = {\n",
    "    'Swaroop': 'swaroop@swaroopch.com',\n",
    "    'Larry': 'larry@wall.org',\n",
    "    'Matsumoto': 'matz@ruby-lang.org',\n",
    "    'Spammer': 'spammer@hotmail.com'\n",
    "}\n",
    "\n",
    "print(\"Swaroop's address is\", ab['Swaroop'])\n",
    "\n",
    "# Deleting a key-value pair\n",
    "del ab['Spammer']\n",
    "\n",
    "print('\\nThere are {} contacts in the address-book\\n'.format(len(ab)))\n",
    "\n",
    "for name, address in ab.items():\n",
    "    print('Contact {} at {}'.format(name, address))\n",
    "\n",
    "# Adding a key-value pair\n",
    "ab['Guido'] = 'guido@python.org'\n",
    "\n",
    "if 'Guido' in ab:\n",
    "    print(\"\\nGuido's address is\", ab['Guido'])"
   ]
  },
  {
   "cell_type": "markdown",
   "metadata": {},
   "source": [
    "**Interactions with sequences:**"
   ]
  },
  {
   "cell_type": "code",
   "execution_count": 11,
   "metadata": {},
   "outputs": [
    {
     "name": "stdout",
     "output_type": "stream",
     "text": [
      "Item 0 is apple\n",
      "Item 1 is mango\n",
      "Item 2 is carrot\n",
      "Item 3 is banana\n",
      "Item -1 is banana\n",
      "Item -2 is carrot\n",
      "Character 0 is s\n",
      "Item 1 to 3 is ['mango', 'carrot']\n",
      "Item 2 to end is ['carrot', 'banana']\n",
      "Item 1 to -1 is ['mango', 'carrot']\n",
      "Item start to end is ['apple', 'mango', 'carrot', 'banana']\n",
      "characters 1 to 3 is wa\n",
      "characters 2 to end is aroop\n",
      "characters 1 to -1 is waroo\n",
      "characters start to end is swaroop\n"
     ]
    }
   ],
   "source": [
    "shoplist = ['apple', 'mango', 'carrot', 'banana']\n",
    "name = 'swaroop'\n",
    "\n",
    "# Indexing or 'Subscription' operation #\n",
    "print('Item 0 is', shoplist[0])\n",
    "print('Item 1 is', shoplist[1])\n",
    "print('Item 2 is', shoplist[2])\n",
    "print('Item 3 is', shoplist[3])\n",
    "print('Item -1 is', shoplist[-1])\n",
    "print('Item -2 is', shoplist[-2])\n",
    "print('Character 0 is', name[0])\n",
    "\n",
    "# Slicing on a list #\n",
    "print('Item 1 to 3 is', shoplist[1:3])\n",
    "print('Item 2 to end is', shoplist[2:])\n",
    "print('Item 1 to -1 is', shoplist[1:-1])\n",
    "print('Item start to end is', shoplist[:])\n",
    "\n",
    "# Slicing on a string #\n",
    "print('characters 1 to 3 is', name[1:3])\n",
    "print('characters 2 to end is', name[2:])\n",
    "print('characters 1 to -1 is', name[1:-1])\n",
    "print('characters start to end is', name[:])"
   ]
  },
  {
   "cell_type": "code",
   "execution_count": 12,
   "metadata": {},
   "outputs": [
    {
     "data": {
      "text/plain": [
       "['apple', 'mango', 'carrot', 'banana']"
      ]
     },
     "execution_count": 12,
     "metadata": {},
     "output_type": "execute_result"
    }
   ],
   "source": [
    "shoplist = ['apple', 'mango', 'carrot', 'banana']\n",
    "shoplist[::1]"
   ]
  },
  {
   "cell_type": "code",
   "execution_count": 13,
   "metadata": {},
   "outputs": [
    {
     "data": {
      "text/plain": [
       "['apple', 'carrot']"
      ]
     },
     "execution_count": 13,
     "metadata": {},
     "output_type": "execute_result"
    }
   ],
   "source": [
    "shoplist[::2]"
   ]
  },
  {
   "cell_type": "code",
   "execution_count": 14,
   "metadata": {},
   "outputs": [
    {
     "data": {
      "text/plain": [
       "['banana', 'carrot', 'mango', 'apple']"
      ]
     },
     "execution_count": 14,
     "metadata": {},
     "output_type": "execute_result"
    }
   ],
   "source": [
    "shoplist[::-1]"
   ]
  },
  {
   "cell_type": "markdown",
   "metadata": {},
   "source": [
    "**Sets** are *unordered* collections of simple objects. Here, existence of an object is more important than order or how many there are."
   ]
  },
  {
   "cell_type": "code",
   "execution_count": 15,
   "metadata": {},
   "outputs": [
    {
     "data": {
      "text/plain": [
       "True"
      ]
     },
     "execution_count": 15,
     "metadata": {},
     "output_type": "execute_result"
    }
   ],
   "source": [
    "bri = set(['brazil', 'russia', 'india'])\n",
    "'india' in bri"
   ]
  },
  {
   "cell_type": "code",
   "execution_count": 16,
   "metadata": {},
   "outputs": [
    {
     "data": {
      "text/plain": [
       "False"
      ]
     },
     "execution_count": 16,
     "metadata": {},
     "output_type": "execute_result"
    }
   ],
   "source": [
    "'usa' in bri"
   ]
  },
  {
   "cell_type": "markdown",
   "metadata": {},
   "source": [
    "**Playing more with strings**"
   ]
  },
  {
   "cell_type": "code",
   "execution_count": 17,
   "metadata": {},
   "outputs": [
    {
     "name": "stdout",
     "output_type": "stream",
     "text": [
      "Yes, the string starts with \"Swa\"\n",
      "Yes, it contains the string \"a\"\n",
      "Yes, it contains the string \"war\"\n",
      "Brazil_*_Russia_*_India_*_China\n"
     ]
    }
   ],
   "source": [
    "# This is a string object\n",
    "name = 'Swaroop'\n",
    "\n",
    "if name.startswith('Swa'):\n",
    "    print('Yes, the string starts with \"Swa\"')\n",
    "\n",
    "if 'a' in name:\n",
    "    print('Yes, it contains the string \"a\"')\n",
    "\n",
    "if name.find('war') != -1:\n",
    "    print('Yes, it contains the string \"war\"')\n",
    "\n",
    "delimiter = '_*_'\n",
    "mylist = ['Brazil', 'Russia', 'India', 'China']\n",
    "print(delimiter.join(mylist))"
   ]
  },
  {
   "cell_type": "markdown",
   "metadata": {},
   "source": [
    "# Objec-Oriented Programming"
   ]
  },
  {
   "cell_type": "markdown",
   "metadata": {},
   "source": [
    "**Defining objects:**"
   ]
  },
  {
   "cell_type": "code",
   "execution_count": 21,
   "metadata": {},
   "outputs": [
    {
     "name": "stdout",
     "output_type": "stream",
     "text": [
      "<__main__.Person object at 0x0000022DD500E278>\n"
     ]
    }
   ],
   "source": [
    "class Person:\n",
    "    pass  # An empty block\n",
    "\n",
    "p = Person()\n",
    "print(p)\n"
   ]
  },
  {
   "cell_type": "markdown",
   "metadata": {},
   "source": [
    "**The 'self' object:**"
   ]
  },
  {
   "cell_type": "code",
   "execution_count": 19,
   "metadata": {},
   "outputs": [
    {
     "name": "stdout",
     "output_type": "stream",
     "text": [
      "Hello, how are you?\n"
     ]
    }
   ],
   "source": [
    "class Person:\n",
    "    def say_hi(self):\n",
    "        print('Hello, how are you?')\n",
    "\n",
    "p = Person()\n",
    "p.say_hi()\n",
    "# The previous 2 lines can also be written as\n",
    "# Person().say_hi()"
   ]
  },
  {
   "cell_type": "markdown",
   "metadata": {},
   "source": [
    "**The __init__ method:**"
   ]
  },
  {
   "cell_type": "code",
   "execution_count": 20,
   "metadata": {},
   "outputs": [
    {
     "name": "stdout",
     "output_type": "stream",
     "text": [
      "Hello, my name is Swaroop\n"
     ]
    }
   ],
   "source": [
    "class Person:\n",
    "    def __init__(self, name):\n",
    "        self.name = name\n",
    "\n",
    "    def say_hi(self):\n",
    "        print('Hello, my name is', self.name)\n",
    "\n",
    "p = Person('Swaroop')\n",
    "p.say_hi()\n",
    "# The previous 2 lines can also be written as\n",
    "# Person('Swaroop').say_hi()\n"
   ]
  },
  {
   "cell_type": "markdown",
   "metadata": {},
   "source": [
    "**Class And Object Variables**"
   ]
  },
  {
   "cell_type": "code",
   "execution_count": 23,
   "metadata": {},
   "outputs": [
    {
     "name": "stdout",
     "output_type": "stream",
     "text": [
      "(Initializing R2-D2)\n",
      "Greetings, my masters call me R2-D2.\n",
      "We have 1 robots.\n",
      "(Initializing C-3PO)\n",
      "Greetings, my masters call me C-3PO.\n",
      "We have 2 robots.\n",
      "\n",
      "Robots can do some work here.\n",
      "\n",
      "Robots have finished their work. So let's destroy them.\n",
      "R2-D2 is being destroyed!\n",
      "There are still 1 robots working.\n",
      "C-3PO is being destroyed!\n",
      "C-3PO was the last one.\n",
      "We have 0 robots.\n"
     ]
    }
   ],
   "source": [
    "class Robot:\n",
    "    \"\"\"Represents a robot, with a name.\"\"\"\n",
    "\n",
    "    # A class variable, counting the number of robots\n",
    "    population = 0\n",
    "\n",
    "    def __init__(self, name):\n",
    "        \"\"\"Initializes the data.\"\"\"\n",
    "        self.name = name\n",
    "        print(\"(Initializing {})\".format(self.name))\n",
    "\n",
    "        # When this person is created, the robot\n",
    "        # adds to the population\n",
    "        Robot.population += 1\n",
    "\n",
    "    def die(self):\n",
    "        \"\"\"I am dying.\"\"\"\n",
    "        print(\"{} is being destroyed!\".format(self.name))\n",
    "\n",
    "        Robot.population -= 1\n",
    "\n",
    "        if Robot.population == 0:\n",
    "            print(\"{} was the last one.\".format(self.name))\n",
    "        else:\n",
    "            print(\"There are still {:d} robots working.\".format(\n",
    "                Robot.population))\n",
    "\n",
    "    def say_hi(self):\n",
    "        \"\"\"Greeting by the robot.\n",
    "\n",
    "        Yeah, they can do that.\"\"\"\n",
    "        print(\"Greetings, my masters call me {}.\".format(self.name))\n",
    "\n",
    "    @classmethod\n",
    "    def how_many(cls):\n",
    "        \"\"\"Prints the current population.\"\"\"\n",
    "        print(\"We have {:d} robots.\".format(cls.population))\n",
    "\n",
    "\n",
    "droid1 = Robot(\"R2-D2\")\n",
    "droid1.say_hi()\n",
    "Robot.how_many()\n",
    "\n",
    "droid2 = Robot(\"C-3PO\")\n",
    "droid2.say_hi()\n",
    "Robot.how_many()\n",
    "\n",
    "print(\"\\nRobots can do some work here.\\n\")\n",
    "\n",
    "print(\"Robots have finished their work. So let's destroy them.\")\n",
    "droid1.die()\n",
    "droid2.die()\n",
    "\n",
    "Robot.how_many()"
   ]
  },
  {
   "cell_type": "markdown",
   "metadata": {},
   "source": [
    "**Inheritence:**"
   ]
  },
  {
   "cell_type": "code",
   "execution_count": 24,
   "metadata": {},
   "outputs": [
    {
     "name": "stdout",
     "output_type": "stream",
     "text": [
      "(Initialized SchoolMember: Mrs. Shrividya)\n",
      "(Initialized Teacher: Mrs. Shrividya)\n",
      "(Initialized SchoolMember: Swaroop)\n",
      "(Initialized Student: Swaroop)\n",
      "\n",
      "Name:\"Mrs. Shrividya\" Age:\"40\" Salary: \"30000\"\n",
      "Name:\"Swaroop\" Age:\"25\" Marks: \"75\"\n"
     ]
    }
   ],
   "source": [
    "class SchoolMember:\n",
    "    '''Represents any school member.'''\n",
    "    def __init__(self, name, age):\n",
    "        self.name = name\n",
    "        self.age = age\n",
    "        print('(Initialized SchoolMember: {})'.format(self.name))\n",
    "\n",
    "    def tell(self):\n",
    "        '''Tell my details.'''\n",
    "        print('Name:\"{}\" Age:\"{}\"'.format(self.name, self.age), end=\" \")\n",
    "\n",
    "\n",
    "class Teacher(SchoolMember):\n",
    "    '''Represents a teacher.'''\n",
    "    def __init__(self, name, age, salary):\n",
    "        SchoolMember.__init__(self, name, age)\n",
    "        self.salary = salary\n",
    "        print('(Initialized Teacher: {})'.format(self.name))\n",
    "\n",
    "    def tell(self):\n",
    "        SchoolMember.tell(self)\n",
    "        print('Salary: \"{:d}\"'.format(self.salary))\n",
    "\n",
    "\n",
    "class Student(SchoolMember):\n",
    "    '''Represents a student.'''\n",
    "    def __init__(self, name, age, marks):\n",
    "        SchoolMember.__init__(self, name, age)\n",
    "        self.marks = marks\n",
    "        print('(Initialized Student: {})'.format(self.name))\n",
    "\n",
    "    def tell(self):\n",
    "        SchoolMember.tell(self)\n",
    "        print('Marks: \"{:d}\"'.format(self.marks))\n",
    "\n",
    "t = Teacher('Mrs. Shrividya', 40, 30000)\n",
    "s = Student('Swaroop', 25, 75)\n",
    "\n",
    "# prints a blank line\n",
    "print()\n",
    "\n",
    "members = [t, s]\n",
    "for member in members:\n",
    "    # Works for both Teachers and Students\n",
    "    member.tell()\n"
   ]
  }
 ],
 "metadata": {
  "kernelspec": {
   "display_name": "Python 3",
   "language": "python",
   "name": "python3"
  },
  "language_info": {
   "codemirror_mode": {
    "name": "ipython",
    "version": 3
   },
   "file_extension": ".py",
   "mimetype": "text/x-python",
   "name": "python",
   "nbconvert_exporter": "python",
   "pygments_lexer": "ipython3",
   "version": "3.6.6"
  }
 },
 "nbformat": 4,
 "nbformat_minor": 2
}
